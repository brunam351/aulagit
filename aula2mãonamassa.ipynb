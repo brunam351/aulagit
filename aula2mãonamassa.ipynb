{
 "cells": [
  {
   "cell_type": "code",
   "execution_count": 3,
   "id": "194ba43b-d042-4b32-aabb-7da340d529a6",
   "metadata": {},
   "outputs": [
    {
     "name": "stdin",
     "output_type": "stream",
     "text": [
      "Digite o valor de saque:  100\n"
     ]
    },
    {
     "name": "stdout",
     "output_type": "stream",
     "text": [
      " o valor do saldo atual é 850.60\n",
      "o valor do saldo atual é 850.60\n",
      "o valor do saldo atual é 850.6\n"
     ]
    }
   ],
   "source": [
    "saldo=950.60\n",
    "saque=float (input('Digite o valor de saque: '))\n",
    "saldo= saldo-saque\n",
    "print( f' o valor do saldo atual é {saldo:.2f}')\n",
    "print('o valor do saldo atual é {0:.2f}'.format(saldo))\n",
    "print('o valor do saldo atual é',saldo)"
   ]
  },
  {
   "cell_type": "code",
   "execution_count": null,
   "id": "28158a69-fdae-4fdf-966c-6cf5b5517c9f",
   "metadata": {},
   "outputs": [],
   "source": []
  }
 ],
 "metadata": {
  "kernelspec": {
   "display_name": "Python 3 (ipykernel)",
   "language": "python",
   "name": "python3"
  },
  "language_info": {
   "codemirror_mode": {
    "name": "ipython",
    "version": 3
   },
   "file_extension": ".py",
   "mimetype": "text/x-python",
   "name": "python",
   "nbconvert_exporter": "python",
   "pygments_lexer": "ipython3",
   "version": "3.11.7"
  }
 },
 "nbformat": 4,
 "nbformat_minor": 5
}
