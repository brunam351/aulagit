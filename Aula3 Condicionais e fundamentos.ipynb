{
 "cells": [
  {
   "cell_type": "code",
   "execution_count": 33,
   "id": "f59da3dd-4f38-4450-a366-f3e7815d7b55",
   "metadata": {},
   "outputs": [
    {
     "name": "stdin",
     "output_type": "stream",
     "text": [
      "Insira um número inteiro: 5\n"
     ]
    },
    {
     "ename": "NameError",
     "evalue": "name 'numero' is not defined",
     "output_type": "error",
     "traceback": [
      "\u001b[1;31m---------------------------------------------------------------------------\u001b[0m",
      "\u001b[1;31mNameError\u001b[0m                                 Traceback (most recent call last)",
      "Cell \u001b[1;32mIn[33], line 2\u001b[0m\n\u001b[0;32m      1\u001b[0m número\u001b[38;5;241m=\u001b[39m\u001b[38;5;28mint\u001b[39m(\u001b[38;5;28minput\u001b[39m(\u001b[38;5;124m'\u001b[39m\u001b[38;5;124mInsira um número inteiro:\u001b[39m\u001b[38;5;124m'\u001b[39m))\n\u001b[1;32m----> 2\u001b[0m \u001b[38;5;28;01mif\u001b[39;00m numero \u001b[38;5;241m%\u001b[39m\u001b[38;5;241m2\u001b[39m\u001b[38;5;241m==\u001b[39m\u001b[38;5;241m0\u001b[39m:\u001b[38;5;28mprint\u001b[39m(\u001b[38;5;124m'\u001b[39m\u001b[38;5;124mO 5 \u001b[39m\u001b[38;5;124m'\u001b[39m,\u001b[38;5;241m4\u001b[39m, \u001b[38;5;124m'\u001b[39m\u001b[38;5;124mé par!\u001b[39m\u001b[38;5;124m'\u001b[39m\u001b[38;5;241m.\u001b[39mformat(número))\n\u001b[0;32m      3\u001b[0m \u001b[38;5;28;01melse\u001b[39;00m:\u001b[38;5;28mprint\u001b[39m(\u001b[38;5;124mf\u001b[39m\u001b[38;5;124m'\u001b[39m\u001b[38;5;124mO número \u001b[39m\u001b[38;5;132;01m{\u001b[39;00mnúmero\u001b[38;5;132;01m}\u001b[39;00m\u001b[38;5;124m é ímpar!\u001b[39m\u001b[38;5;124m'\u001b[39m)\n",
      "\u001b[1;31mNameError\u001b[0m: name 'numero' is not defined"
     ]
    }
   ],
   "source": [
    "número=int(input('Insira um número inteiro:'))\n",
    "if numero %2==0:print('O numero ',numero, 'é par!'.format(número))\n",
    "else:print(f'O número {número} é ímpar!')\n"
   ]
  },
  {
   "cell_type": "code",
   "execution_count": 14,
   "id": "ad23a303-8efc-4c79-8a4d-6aefc764ae6e",
   "metadata": {},
   "outputs": [
    {
     "ename": "SyntaxError",
     "evalue": "invalid syntax (1651639761.py, line 4)",
     "output_type": "error",
     "traceback": [
      "\u001b[1;36m  Cell \u001b[1;32mIn[14], line 4\u001b[1;36m\u001b[0m\n\u001b[1;33m    palavras frase.slipt (' ')\u001b[0m\n\u001b[1;37m             ^\u001b[0m\n\u001b[1;31mSyntaxError\u001b[0m\u001b[1;31m:\u001b[0m invalid syntax\n"
     ]
    }
   ],
   "source": [
    "#Exercício2\n",
    "\n",
    "Frase=input('Digite uma frase:')\n",
    "palavras frase.slipt (' ')\n",
    "print(frase)\n",
    "for i in palavras:\n",
    "    print(i,'-',len(i))"
   ]
  },
  {
   "cell_type": "code",
   "execution_count": 22,
   "id": "62a2d1b0-31c2-4445-806a-b81b8565f220",
   "metadata": {},
   "outputs": [
    {
     "ename": "IndentationError",
     "evalue": "unexpected indent (2806338490.py, line 5)",
     "output_type": "error",
     "traceback": [
      "\u001b[1;36m  Cell \u001b[1;32mIn[22], line 5\u001b[1;36m\u001b[0m\n\u001b[1;33m    senha_informada=input('Digite uma senha de 4 dígitos: ')\u001b[0m\n\u001b[1;37m    ^\u001b[0m\n\u001b[1;31mIndentationError\u001b[0m\u001b[1;31m:\u001b[0m unexpected indent\n"
     ]
    }
   ],
   "source": [
    "#Exercício 3\n",
    "senha='1234'\n",
    "parada=false\n",
    "while parada==False:'4567'\n",
    "    senha_informada=input('Digite uma senha de 4 dígitos: ')\n",
    "    if(senha_informada!=senha): print('Senha incorreta!\\nTente novamente.')\n",
    "else:\n",
    "    print('Senha correta!')\n",
    "    parada=True"
   ]
  },
  {
   "cell_type": "code",
   "execution_count": 26,
   "id": "dd195be0-2af0-452b-8e75-d82480350701",
   "metadata": {},
   "outputs": [
    {
     "ename": "IndentationError",
     "evalue": "unexpected indent (652978675.py, line 7)",
     "output_type": "error",
     "traceback": [
      "\u001b[1;36m  Cell \u001b[1;32mIn[26], line 7\u001b[1;36m\u001b[0m\n\u001b[1;33m    print(produto)\u001b[0m\n\u001b[1;37m    ^\u001b[0m\n\u001b[1;31mIndentationError\u001b[0m\u001b[1;31m:\u001b[0m unexpected indent\n"
     ]
    }
   ],
   "source": [
    "#Exercício4\n",
    "n=int(input('Digite um número inteiro: '))\n",
    "produto=1\n",
    "for i in range(1,n+1):\n",
    "    produto=produto*i\n",
    "    if n==0:produto=1\n",
    "        print(produto)"
   ]
  },
  {
   "cell_type": "code",
   "execution_count": 27,
   "id": "aea4e158-4b4d-409f-af01-b148ac363ecd",
   "metadata": {},
   "outputs": [
    {
     "name": "stdout",
     "output_type": "stream",
     "text": [
      "Janeiro \t 232\n",
      "Fevereiro \t 321\n",
      "Junho \t 589\n",
      "Julho \t 547\n"
     ]
    }
   ],
   "source": [
    "#Exercício5\n",
    "dicionário={'Janeiro':232, 'Fevereiro':321, 'Junho':589, 'Julho':547}\n",
    "for k in dicionário:\n",
    "    print(k, '\\t',dicionário[k])"
   ]
  },
  {
   "cell_type": "code",
   "execution_count": null,
   "id": "996ca5f1-874f-4452-ac29-14015132db7e",
   "metadata": {},
   "outputs": [],
   "source": []
  }
 ],
 "metadata": {
  "kernelspec": {
   "display_name": "Python 3 (ipykernel)",
   "language": "python",
   "name": "python3"
  },
  "language_info": {
   "codemirror_mode": {
    "name": "ipython",
    "version": 3
   },
   "file_extension": ".py",
   "mimetype": "text/x-python",
   "name": "python",
   "nbconvert_exporter": "python",
   "pygments_lexer": "ipython3",
   "version": "3.11.7"
  }
 },
 "nbformat": 4,
 "nbformat_minor": 5
}
