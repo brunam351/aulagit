{
 "cells": [
  {
   "cell_type": "code",
   "execution_count": 1,
   "id": "90c85fe3-30bf-4897-a7af-a490aa411375",
   "metadata": {},
   "outputs": [],
   "source": [
    "#Exercicio1\n",
    "eh_multiplo_dez = lambda n:(n%10)==0"
   ]
  },
  {
   "cell_type": "code",
   "execution_count": 2,
   "id": "5dd6e871-d159-4466-be95-56fa39f48c24",
   "metadata": {},
   "outputs": [
    {
     "data": {
      "text/plain": [
       "False"
      ]
     },
     "execution_count": 2,
     "metadata": {},
     "output_type": "execute_result"
    }
   ],
   "source": [
    "eh_multiplo_dez(2)"
   ]
  },
  {
   "cell_type": "code",
   "execution_count": 3,
   "id": "d75a8c60-5734-4674-a57f-e8a3eb2c7fa2",
   "metadata": {},
   "outputs": [
    {
     "data": {
      "text/plain": [
       "True"
      ]
     },
     "execution_count": 3,
     "metadata": {},
     "output_type": "execute_result"
    }
   ],
   "source": [
    "eh_multiplo_dez(20)"
   ]
  },
  {
   "cell_type": "code",
   "execution_count": 6,
   "id": "af540ab9-5519-401d-9c4e-d37fbddaca83",
   "metadata": {},
   "outputs": [],
   "source": [
    "def eh_multiplo_dez(n):\n",
    "    return(n%10) == 0"
   ]
  },
  {
   "cell_type": "code",
   "execution_count": 8,
   "id": "eb5bb45b-d26e-4f14-8cac-e691fcebcebc",
   "metadata": {},
   "outputs": [
    {
     "data": {
      "text/plain": [
       "False"
      ]
     },
     "execution_count": 8,
     "metadata": {},
     "output_type": "execute_result"
    }
   ],
   "source": [
    "eh_multiplo_dez(2)"
   ]
  },
  {
   "cell_type": "code",
   "execution_count": 13,
   "id": "8b9c3974-7afd-4e53-8200-8a571cba1e3b",
   "metadata": {},
   "outputs": [],
   "source": [
    "#Exercicio 2\n",
    "def fatorial (n):\n",
    "    produto*=i\n",
    "    if n==0:produto=1\n",
    "    print(produto)"
   ]
  },
  {
   "cell_type": "code",
   "execution_count": 14,
   "id": "f041c230-995d-4a0e-a546-78e11de3b5e2",
   "metadata": {},
   "outputs": [
    {
     "name": "stdin",
     "output_type": "stream",
     "text": [
      "Digite um número inteiro: print(fato)\n"
     ]
    },
    {
     "ename": "ValueError",
     "evalue": "invalid literal for int() with base 10: 'print(fato)'",
     "output_type": "error",
     "traceback": [
      "\u001b[1;31m---------------------------------------------------------------------------\u001b[0m",
      "\u001b[1;31mValueError\u001b[0m                                Traceback (most recent call last)",
      "Cell \u001b[1;32mIn[14], line 1\u001b[0m\n\u001b[1;32m----> 1\u001b[0m numero\u001b[38;5;241m=\u001b[39m\u001b[38;5;28mint\u001b[39m(\u001b[38;5;28minput\u001b[39m(\u001b[38;5;124m'\u001b[39m\u001b[38;5;124mDigite um número inteiro:\u001b[39m\u001b[38;5;124m'\u001b[39m))\n\u001b[0;32m      2\u001b[0m fato\u001b[38;5;241m=\u001b[39mfatorial(numero)\n",
      "\u001b[1;31mValueError\u001b[0m: invalid literal for int() with base 10: 'print(fato)'"
     ]
    }
   ],
   "source": [
    "numero=int(input('Digite um número inteiro:'))\n",
    "fato=fatorial(numero)"
   ]
  },
  {
   "cell_type": "code",
   "execution_count": 20,
   "id": "fa371736-c08e-4023-bb5e-6fc7f9584c41",
   "metadata": {},
   "outputs": [],
   "source": [
    "#exercicio 4\n",
    "def primeiro_mome(nome_completo):\n",
    "    nome_1=nome_completo.split(' ')[0]\n",
    "    return nome_1\n",
    "    "
   ]
  },
  {
   "cell_type": "code",
   "execution_count": 21,
   "id": "bc3314ec-feba-447d-8ad1-8c19c753adc9",
   "metadata": {},
   "outputs": [],
   "source": [
    "primeiro_nome=('Bruna Monteiro')\n",
    "nomes=['João Carlos','Maria Eduarda','Ana Rte', 'Ana Clara']"
   ]
  },
  {
   "cell_type": "code",
   "execution_count": 23,
   "id": "4b895056-c944-48d7-a6b4-1f380c1caf99",
   "metadata": {},
   "outputs": [
    {
     "ename": "TypeError",
     "evalue": "'str' object is not callable",
     "output_type": "error",
     "traceback": [
      "\u001b[1;31m---------------------------------------------------------------------------\u001b[0m",
      "\u001b[1;31mTypeError\u001b[0m                                 Traceback (most recent call last)",
      "Cell \u001b[1;32mIn[23], line 2\u001b[0m\n\u001b[0;32m      1\u001b[0m nomes\u001b[38;5;241m=\u001b[39m[\u001b[38;5;124m'\u001b[39m\u001b[38;5;124mJoão Carlos\u001b[39m\u001b[38;5;124m'\u001b[39m,\u001b[38;5;124m'\u001b[39m\u001b[38;5;124mMaria Eduarda\u001b[39m\u001b[38;5;124m'\u001b[39m,\u001b[38;5;124m'\u001b[39m\u001b[38;5;124mAna Rte\u001b[39m\u001b[38;5;124m'\u001b[39m, \u001b[38;5;124m'\u001b[39m\u001b[38;5;124mAna Clara\u001b[39m\u001b[38;5;124m'\u001b[39m]\n\u001b[1;32m----> 2\u001b[0m \u001b[38;5;28mlist\u001b[39m(\u001b[38;5;28mmap\u001b[39m(primeiro_nome,nomes))\n",
      "\u001b[1;31mTypeError\u001b[0m: 'str' object is not callable"
     ]
    }
   ],
   "source": [
    "nomes=['João Carlos','Maria Eduarda','Ana Rte', 'Ana Clara']\n",
    "list(map(primeiro_nome, nomes))"
   ]
  },
  {
   "cell_type": "code",
   "execution_count": 35,
   "id": "13290d07-6869-4955-ba4d-a83216208310",
   "metadata": {},
   "outputs": [],
   "source": [
    "#Exercício 6\n",
    "days = [\"Monday\",\"Tuesday\",\"Wednesday\",\"Thursday\",\"Friday\",\"Saturday\",\"Sunday\"]\n",
    "\n"
   ]
  },
  {
   "cell_type": "code",
   "execution_count": 42,
   "id": "bea0937e-2d62-4da4-a1e7-48ca4c487d0e",
   "metadata": {},
   "outputs": [],
   "source": [
    "def dia_semana (data_br):\n",
    "    from datetime import datetime as dt\n",
    "    days = [\"Monday\",\"Tuesday\",\"Wednesday\",\"Thursday\",\"Friday\",\"Saturday\",\"Sunday\"]\n",
    "    data_py=dt.strptime(data_inicial,'%d/%m/Y')\n",
    "    dia_semana=data.py.weekday()\n",
    "    return days [dia_semana]"
   ]
  },
  {
   "cell_type": "code",
   "execution_count": 43,
   "id": "8a397fe6-b12f-4f7c-8037-240a1a4e5caa",
   "metadata": {},
   "outputs": [
    {
     "data": {
      "text/plain": [
       "'Tuesday'"
      ]
     },
     "execution_count": 43,
     "metadata": {},
     "output_type": "execute_result"
    }
   ],
   "source": [
    "   from datetime import datetime as dt\n",
    "data_inicial='19/06/1990'\n",
    "data_py=dt.strptime(data_inicial, '%d/%m/%Y')\n",
    "data_py.strftime('%A')"
   ]
  },
  {
   "cell_type": "code",
   "execution_count": null,
   "id": "f470030c-a8b5-4dff-8b2a-ad621739c516",
   "metadata": {},
   "outputs": [],
   "source": []
  },
  {
   "cell_type": "code",
   "execution_count": 51,
   "id": "1bb90494-31b2-4eb9-ad6d-6a62fd6ac4d2",
   "metadata": {},
   "outputs": [
    {
     "ename": "IndentationError",
     "evalue": "expected an indented block after class definition on line 2 (3315856484.py, line 3)",
     "output_type": "error",
     "traceback": [
      "\u001b[1;36m  Cell \u001b[1;32mIn[51], line 3\u001b[1;36m\u001b[0m\n\u001b[1;33m    def __int__(self, nome, idade, raca):\u001b[0m\n\u001b[1;37m    ^\u001b[0m\n\u001b[1;31mIndentationError\u001b[0m\u001b[1;31m:\u001b[0m expected an indented block after class definition on line 2\n"
     ]
    }
   ],
   "source": [
    "#Cachorro\n",
    "class Cachorro:\n",
    "def __int__(self, nome, idade, raca):\n",
    "    self.nome = nome\n",
    "    self.idade = idade\n",
    "    self.raca = raca\n",
    "def latir (self):\n",
    "        print(\"Au!\")"
   ]
  },
  {
   "cell_type": "code",
   "execution_count": 55,
   "id": "540de06f-24c8-444f-ba16-9b95d7e2ebde",
   "metadata": {},
   "outputs": [],
   "source": [
    "meu_cachorro=('Milo', '12', 'vira-lata')"
   ]
  },
  {
   "cell_type": "code",
   "execution_count": 56,
   "id": "266b36e9-92ac-4029-aa83-867c2886f10a",
   "metadata": {},
   "outputs": [
    {
     "ename": "AttributeError",
     "evalue": "'tuple' object has no attribute 'idade'",
     "output_type": "error",
     "traceback": [
      "\u001b[1;31m---------------------------------------------------------------------------\u001b[0m",
      "\u001b[1;31mAttributeError\u001b[0m                            Traceback (most recent call last)",
      "Cell \u001b[1;32mIn[56], line 1\u001b[0m\n\u001b[1;32m----> 1\u001b[0m meu_cachorro\u001b[38;5;241m.\u001b[39midade()\n",
      "\u001b[1;31mAttributeError\u001b[0m: 'tuple' object has no attribute 'idade'"
     ]
    }
   ],
   "source": [
    "meu_cachorro.idade()"
   ]
  },
  {
   "cell_type": "code",
   "execution_count": 54,
   "id": "f6c156e7-3892-42f2-bcc9-14ba72e18b54",
   "metadata": {},
   "outputs": [
    {
     "ename": "AttributeError",
     "evalue": "'tuple' object has no attribute 'idade'",
     "output_type": "error",
     "traceback": [
      "\u001b[1;31m---------------------------------------------------------------------------\u001b[0m",
      "\u001b[1;31mAttributeError\u001b[0m                            Traceback (most recent call last)",
      "Cell \u001b[1;32mIn[54], line 1\u001b[0m\n\u001b[1;32m----> 1\u001b[0m meu_cachorro\u001b[38;5;241m.\u001b[39midade()\n",
      "\u001b[1;31mAttributeError\u001b[0m: 'tuple' object has no attribute 'idade'"
     ]
    }
   ],
   "source": []
  },
  {
   "cell_type": "code",
   "execution_count": 57,
   "id": "9c79e390-abd4-4de3-a556-a2017f1199b4",
   "metadata": {},
   "outputs": [],
   "source": [
    "#Pessoa"
   ]
  },
  {
   "cell_type": "code",
   "execution_count": 67,
   "id": "454ff476-5de2-4305-80e6-68dab3d3be9f",
   "metadata": {},
   "outputs": [
    {
     "ename": "NameError",
     "evalue": "name 'Pessoa' is not defined",
     "output_type": "error",
     "traceback": [
      "\u001b[1;31m---------------------------------------------------------------------------\u001b[0m",
      "\u001b[1;31mNameError\u001b[0m                                 Traceback (most recent call last)",
      "Cell \u001b[1;32mIn[67], line 5\u001b[0m\n\u001b[0;32m      3\u001b[0m     \u001b[38;5;28mself\u001b[39m\u001b[38;5;241m.\u001b[39mSexo \u001b[38;5;241m=\u001b[39m sexo\n\u001b[0;32m      4\u001b[0m     \u001b[38;5;28mself\u001b[39m\u001b[38;5;241m.\u001b[39mRena \u001b[38;5;241m=\u001b[39m renda\n\u001b[1;32m----> 5\u001b[0m eu\u001b[38;5;241m=\u001b[39mPessoa(\u001b[38;5;241m30\u001b[39m,\u001b[38;5;124m'\u001b[39m\u001b[38;5;124mFeminino\u001b[39m\u001b[38;5;124m'\u001b[39m,\u001b[38;5;241m100000\u001b[39m)\n",
      "\u001b[1;31mNameError\u001b[0m: name 'Pessoa' is not defined"
     ]
    }
   ],
   "source": [
    "def __init__(self,idade,sexo,renda):\n",
    "    self.Idade = idade\n",
    "    self.Sexo = sexo\n",
    "    self.Rena = renda\n",
    "eu=Pessoa(30,'Feminino',100000)"
   ]
  },
  {
   "cell_type": "code",
   "execution_count": 65,
   "id": "2961f6a3-1dac-4733-8a11-837e05880c28",
   "metadata": {},
   "outputs": [
    {
     "ename": "NameError",
     "evalue": "name 'Pessoa' is not defined",
     "output_type": "error",
     "traceback": [
      "\u001b[1;31m---------------------------------------------------------------------------\u001b[0m",
      "\u001b[1;31mNameError\u001b[0m                                 Traceback (most recent call last)",
      "Cell \u001b[1;32mIn[65], line 1\u001b[0m\n\u001b[1;32m----> 1\u001b[0m eu\u001b[38;5;241m=\u001b[39mPessoa(\u001b[38;5;241m30\u001b[39m,\u001b[38;5;124m'\u001b[39m\u001b[38;5;124mFeminino\u001b[39m\u001b[38;5;124m'\u001b[39m,\u001b[38;5;241m1000000\u001b[39m)\n",
      "\u001b[1;31mNameError\u001b[0m: name 'Pessoa' is not defined"
     ]
    }
   ],
   "source": []
  },
  {
   "cell_type": "code",
   "execution_count": 71,
   "id": "a2e3f60f-bf0b-4532-9191-e97dc93f4c0e",
   "metadata": {},
   "outputs": [
    {
     "ename": "SyntaxError",
     "evalue": "invalid syntax (404112591.py, line 1)",
     "output_type": "error",
     "traceback": [
      "\u001b[1;36m  Cell \u001b[1;32mIn[71], line 1\u001b[1;36m\u001b[0m\n\u001b[1;33m    classe Equacao_primeiro_grau:\u001b[0m\n\u001b[1;37m           ^\u001b[0m\n\u001b[1;31mSyntaxError\u001b[0m\u001b[1;31m:\u001b[0m invalid syntax\n"
     ]
    }
   ],
   "source": [
    "classe Equacao_primeiro_grau:\n",
    "def __init__(self, a, b):\n",
    "    self.inclinação = a\n",
    "    self.intercepto = b\n",
    "    self.x = -b/a\n",
    "    def raiz (self):\n",
    "        print(f'A raiz da equação({self.inclinação})*x+({self.intercepto}) é {self.x}')\n",
    "        equação=Equacao_primeiro_grau(2,3)\n",
    "    "
   ]
  },
  {
   "cell_type": "code",
   "execution_count": 72,
   "id": "a4c9efb3-0aed-4818-9466-cc4cdd8704d8",
   "metadata": {},
   "outputs": [
    {
     "ename": "NameError",
     "evalue": "name 'Equacao_primeiro_grau' is not defined",
     "output_type": "error",
     "traceback": [
      "\u001b[1;31m---------------------------------------------------------------------------\u001b[0m",
      "\u001b[1;31mNameError\u001b[0m                                 Traceback (most recent call last)",
      "Cell \u001b[1;32mIn[72], line 1\u001b[0m\n\u001b[1;32m----> 1\u001b[0m equação\u001b[38;5;241m=\u001b[39mEquacao_primeiro_grau(\u001b[38;5;241m2\u001b[39m,\u001b[38;5;241m3\u001b[39m)\n",
      "\u001b[1;31mNameError\u001b[0m: name 'Equacao_primeiro_grau' is not defined"
     ]
    }
   ],
   "source": [
    "equação=Equacao_primeiro_grau(2,3)"
   ]
  },
  {
   "cell_type": "code",
   "execution_count": 73,
   "id": "fccd80a7-d12f-4da0-a3b9-552b14b22e3f",
   "metadata": {},
   "outputs": [
    {
     "ename": "NameError",
     "evalue": "name 'equacao' is not defined",
     "output_type": "error",
     "traceback": [
      "\u001b[1;31m---------------------------------------------------------------------------\u001b[0m",
      "\u001b[1;31mNameError\u001b[0m                                 Traceback (most recent call last)",
      "Cell \u001b[1;32mIn[73], line 1\u001b[0m\n\u001b[1;32m----> 1\u001b[0m equacao\u001b[38;5;241m.\u001b[39mraiz()\n",
      "\u001b[1;31mNameError\u001b[0m: name 'equacao' is not defined"
     ]
    }
   ],
   "source": [
    "equacao.raiz()"
   ]
  },
  {
   "cell_type": "code",
   "execution_count": 74,
   "id": "d37bafbe-34b8-44e8-93e1-ec514dabcd3b",
   "metadata": {},
   "outputs": [
    {
     "ename": "SyntaxError",
     "evalue": "invalid syntax (1591050422.py, line 1)",
     "output_type": "error",
     "traceback": [
      "\u001b[1;36m  Cell \u001b[1;32mIn[74], line 1\u001b[1;36m\u001b[0m\n\u001b[1;33m    Exercicio 1\u001b[0m\n\u001b[1;37m              ^\u001b[0m\n\u001b[1;31mSyntaxError\u001b[0m\u001b[1;31m:\u001b[0m invalid syntax\n"
     ]
    }
   ],
   "source": [
    "Exercicio 1\n",
    "def __init__(self,base,altura):\n",
    "    self.base = base\n",
    "    self.altura = altura\n",
    "\n",
    "def area (self):\n",
    "    retur self.base*self.altura\n",
    "def perimetro (self):\n",
    "    return 2*self.altura **self.base"
   ]
  },
  {
   "cell_type": "code",
   "execution_count": 77,
   "id": "1ff6bfba-af27-4cd3-b502-8961aa5550b0",
   "metadata": {},
   "outputs": [
    {
     "ename": "NameError",
     "evalue": "name 'Retangulo' is not defined",
     "output_type": "error",
     "traceback": [
      "\u001b[1;31m---------------------------------------------------------------------------\u001b[0m",
      "\u001b[1;31mNameError\u001b[0m                                 Traceback (most recent call last)",
      "Cell \u001b[1;32mIn[77], line 1\u001b[0m\n\u001b[1;32m----> 1\u001b[0m Exemplo\u001b[38;5;241m=\u001b[39mRetangulo(\u001b[38;5;241m2\u001b[39m,\u001b[38;5;241m3\u001b[39m)\n\u001b[0;32m      2\u001b[0m \u001b[38;5;28mprint\u001b[39m(exemplo\u001b[38;5;241m.\u001b[39mbase)\n\u001b[0;32m      3\u001b[0m \u001b[38;5;28mprint\u001b[39m(exemplo\u001b[38;5;241m.\u001b[39maltura)\n",
      "\u001b[1;31mNameError\u001b[0m: name 'Retangulo' is not defined"
     ]
    }
   ],
   "source": [
    "Exemplo=Retangulo(2,3)\n",
    "print(exemplo.base)\n",
    "print(exemplo.altura)\n",
    "print(exemplo.area())\n",
    "print(exemplo.perimetro())"
   ]
  },
  {
   "cell_type": "code",
   "execution_count": null,
   "id": "7f30d81c-8c4f-49f6-b5f2-62ab3a5e2eb9",
   "metadata": {},
   "outputs": [],
   "source": []
  }
 ],
 "metadata": {
  "kernelspec": {
   "display_name": "Python 3 (ipykernel)",
   "language": "python",
   "name": "python3"
  },
  "language_info": {
   "codemirror_mode": {
    "name": "ipython",
    "version": 3
   },
   "file_extension": ".py",
   "mimetype": "text/x-python",
   "name": "python",
   "nbconvert_exporter": "python",
   "pygments_lexer": "ipython3",
   "version": "3.11.7"
  }
 },
 "nbformat": 4,
 "nbformat_minor": 5
}
