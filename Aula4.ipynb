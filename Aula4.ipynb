{
 "cells": [
  {
   "cell_type": "code",
   "execution_count": 7,
   "id": "31ceb3b7-adab-4ad0-8100-7f919f646d2a",
   "metadata": {},
   "outputs": [
    {
     "data": {
      "text/plain": [
       "17"
      ]
     },
     "execution_count": 7,
     "metadata": {},
     "output_type": "execute_result"
    }
   ],
   "source": [
    "#Criando Funções\n",
    "\n",
    "# def nome(argumentos): função\n",
    "numero=12\n",
    "def soma(elemento1, elemento2):\n",
    "    resultado=elemento1+elemento2\n",
    "    return resultado\n",
    "\n",
    "numero1=12\n",
    "numero2=5\n",
    "resposta=soma(numero1, numero2)\n",
    "resposta"
   ]
  },
  {
   "cell_type": "code",
   "execution_count": 8,
   "id": "79b8ce80-2043-4571-8499-e7307f123ad7",
   "metadata": {},
   "outputs": [
    {
     "data": {
      "text/plain": [
       "8"
      ]
     },
     "execution_count": 8,
     "metadata": {},
     "output_type": "execute_result"
    }
   ],
   "source": [
    "#Fixando parâmetros de funções\n",
    "\n",
    "def potencia(x,y):\n",
    "    resultado=x**y\n",
    "    return resultado\n",
    "\n",
    "potencia(2,3)"
   ]
  },
  {
   "cell_type": "code",
   "execution_count": 10,
   "id": "93156aad-37c6-4748-9e48-176772e9c4d7",
   "metadata": {},
   "outputs": [
    {
     "data": {
      "text/plain": [
       "27"
      ]
     },
     "execution_count": 10,
     "metadata": {},
     "output_type": "execute_result"
    }
   ],
   "source": [
    "#Função anônima lambda\n",
    "# lambda argumentos: função simples\n",
    "\n",
    "cubo=lambda x:x**3\n",
    "cubo(3)"
   ]
  },
  {
   "cell_type": "code",
   "execution_count": 14,
   "id": "db514cbe-6376-4efd-9fd7-986d91a83cfb",
   "metadata": {},
   "outputs": [],
   "source": [
    "#Função integrada MAP\n",
    "#map(função pronta, interaveis)\n",
    "def cubo(x):\n",
    "    return x**3\n",
    "    \n"
   ]
  },
  {
   "cell_type": "code",
   "execution_count": 15,
   "id": "a6f930a6-188e-4764-9cf3-a1dd9c766673",
   "metadata": {},
   "outputs": [],
   "source": [
    "def cubo(x):\n",
    "    return x**3"
   ]
  },
  {
   "cell_type": "code",
   "execution_count": 16,
   "id": "23cdabda-35b2-489d-ba01-e552044ebb2b",
   "metadata": {},
   "outputs": [
    {
     "name": "stdout",
     "output_type": "stream",
     "text": [
      "[1, 8, 27, 64]\n"
     ]
    }
   ],
   "source": [
    "x=map(cubo,(1,2,3,4))\n",
    "print(list(x))"
   ]
  },
  {
   "cell_type": "code",
   "execution_count": 18,
   "id": "b98dbd52-705f-4159-aa9c-d96be857e1c6",
   "metadata": {},
   "outputs": [],
   "source": [
    "#Importando de subbibliotecas nativas\n",
    "#date\n",
    "from datetime import date\n",
    "#datetime\n",
    "from datetime import datetime as dt \n"
   ]
  },
  {
   "cell_type": "code",
   "execution_count": 40,
   "id": "4f5b7fcb-0105-4d5d-9920-5e9f81eda4a6",
   "metadata": {},
   "outputs": [
    {
     "data": {
      "text/plain": [
       "datetime.datetime(2024, 6, 20, 20, 53, 3, 976373)"
      ]
     },
     "execution_count": 40,
     "metadata": {},
     "output_type": "execute_result"
    }
   ],
   "source": [
    "#today\n",
    "date.today()\n",
    "dt.today()\n",
    "#now\n",
    "dt.now()"
   ]
  },
  {
   "cell_type": "code",
   "execution_count": 38,
   "id": "577280a7-c9d0-467a-bee3-08046efae0a6",
   "metadata": {},
   "outputs": [],
   "source": [
    "hoje=dt.today()"
   ]
  },
  {
   "cell_type": "code",
   "execution_count": 41,
   "id": "e7356858-7991-4635-ae9c-3b19e835a7b5",
   "metadata": {},
   "outputs": [],
   "source": [
    "#formatação\n",
    "#strftime - out\n",
    "hoje.strftime('%d-%m-%Y, %H:%M')\n",
    "#strftime - out\n",
    "data_exemplo=dt.strptime('20/06/2024','%d/%m/%Y')"
   ]
  },
  {
   "cell_type": "code",
   "execution_count": 42,
   "id": "bcd5db65-3f57-477c-9098-02e80364429b",
   "metadata": {},
   "outputs": [
    {
     "name": "stdout",
     "output_type": "stream",
     "text": [
      "2024-06-20 00:00:00\n",
      "2024-06-19 00:00:00\n"
     ]
    }
   ],
   "source": [
    "#manipulação\n",
    "\n",
    "data_exemplo.day\n",
    "#timedelta\n",
    "from datetime import timedelta\n",
    "print(data_exemplo)\n",
    "print(data_exemplo-timedelta(days=1))"
   ]
  },
  {
   "cell_type": "code",
   "execution_count": null,
   "id": "24400e59-4948-4d42-9152-0902128b0100",
   "metadata": {},
   "outputs": [],
   "source": []
  }
 ],
 "metadata": {
  "kernelspec": {
   "display_name": "Python 3 (ipykernel)",
   "language": "python",
   "name": "python3"
  },
  "language_info": {
   "codemirror_mode": {
    "name": "ipython",
    "version": 3
   },
   "file_extension": ".py",
   "mimetype": "text/x-python",
   "name": "python",
   "nbconvert_exporter": "python",
   "pygments_lexer": "ipython3",
   "version": "3.11.7"
  }
 },
 "nbformat": 4,
 "nbformat_minor": 5
}
