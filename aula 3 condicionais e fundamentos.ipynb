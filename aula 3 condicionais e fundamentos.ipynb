{
 "cells": [
  {
   "cell_type": "code",
   "execution_count": null,
   "id": "a28b2e0e-5c86-4a7c-b619-dcfe131a44fc",
   "metadata": {},
   "outputs": [],
   "source": [
    "#Exercício1\n",
    "numero=int(input('Insira um número inteiro:'))\n",
    "if numero%2==0: print('O número ',numero, 'é par!'.format(numero))\n",
    "   else: print(f'Onúmero {numero} é impar!')\n",
    "       "
   ]
  },
  {
   "cell_type": "code",
   "execution_count": null,
   "id": "d1d783b6-b162-4ea0-a94c-394939656e3c",
   "metadata": {},
   "outputs": [],
   "source": [
    "#Exercício2\n",
    "frase=input('Digite uma frase: ')\n",
    "palavrasfrase.split(' ')\n",
    "print(frase)\n",
    "for i in palavras:\n",
    "    print(i, ' - ',len(i))\n",
    "    "
   ]
  },
  {
   "cell_type": "code",
   "execution_count": null,
   "id": "9f3a3998-1d01-4c76-a0ec-4b359072d9b3",
   "metadata": {},
   "outputs": [],
   "source": [
    "#Exercício3\n",
    "senha='1234'\n",
    "parada=false\n",
    "while parada==False:\n",
    "senha_informada=input('Digite uma senha de 4 digitos: ')\n",
    "if(senha_informada!=senha): print('Senha incorreta!\\nTente novamente.')\n",
    "else:\n",
    "    print('Senha correta!')\n",
    "    parada=True \n"
   ]
  },
  {
   "cell_type": "code",
   "execution_count": null,
   "id": "0c74e1db-0e7a-46c0-8c12-58aab5374fb8",
   "metadata": {},
   "outputs": [],
   "source": [
    "#Exercício4\n",
    "n=int(input('Digite um número inteiro: '))\n",
    "produto=1\n",
    "for i in range(1,n+1):\n",
    "    produto=produto*i\n",
    "if n==0:produto=1\n",
    "print(produto)"
   ]
  },
  {
   "cell_type": "code",
   "execution_count": null,
   "id": "2020cc1e-d33d-4aab-becb-928a11c9b6fa",
   "metadata": {},
   "outputs": [],
   "source": [
    "#Exercício5\n",
    "dicionario={'Janeiro':232, 'Fevereiro':321, 'Junho':589, 'Julho':547}\n",
    "for k in dicionario:\n",
    "    print(k, '\\t',dicionario[k])\n",
    "    "
   ]
  },
  {
   "cell_type": "code",
   "execution_count": null,
   "id": "00bc3d20-ca15-4362-ae21-e8d618aa6c81",
   "metadata": {},
   "outputs": [],
   "source": []
  }
 ],
 "metadata": {
  "kernelspec": {
   "display_name": "Python 3 (ipykernel)",
   "language": "python",
   "name": "python3"
  },
  "language_info": {
   "codemirror_mode": {
    "name": "ipython",
    "version": 3
   },
   "file_extension": ".py",
   "mimetype": "text/x-python",
   "name": "python",
   "nbconvert_exporter": "python",
   "pygments_lexer": "ipython3",
   "version": "3.11.7"
  }
 },
 "nbformat": 4,
 "nbformat_minor": 5
}
