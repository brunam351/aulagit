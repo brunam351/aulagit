{
 "cells": [
  {
   "cell_type": "code",
   "execution_count": 1,
   "id": "a95f8f44-8d29-44ee-b004-f7318e47f11d",
   "metadata": {},
   "outputs": [
    {
     "name": "stdout",
     "output_type": "stream",
     "text": [
      "teste\n"
     ]
    }
   ],
   "source": [
    "print (\"teste\")"
   ]
  },
  {
   "cell_type": "code",
   "execution_count": 2,
   "id": "6726c260-0410-4eb0-a58e-106c065cfe1d",
   "metadata": {},
   "outputs": [
    {
     "name": "stdout",
     "output_type": "stream",
     "text": [
      "Hello World\n"
     ]
    }
   ],
   "source": [
    "print (\"Hello World\")"
   ]
  },
  {
   "cell_type": "code",
   "execution_count": 3,
   "id": "9fafdd59-2e4e-461f-b0e2-bde063b1524d",
   "metadata": {},
   "outputs": [
    {
     "ename": "SyntaxError",
     "evalue": "invalid syntax (2973384533.py, line 1)",
     "output_type": "error",
     "traceback": [
      "\u001b[1;36m  Cell \u001b[1;32mIn[3], line 1\u001b[1;36m\u001b[0m\n\u001b[1;33m    nome \"Bruna Monteiro\"\u001b[0m\n\u001b[1;37m         ^\u001b[0m\n\u001b[1;31mSyntaxError\u001b[0m\u001b[1;31m:\u001b[0m invalid syntax\n"
     ]
    }
   ],
   "source": [
    "nome \"Bruna Monteiro\""
   ]
  },
  {
   "cell_type": "code",
   "execution_count": 4,
   "id": "002f5c4c-46d7-4cc7-b45d-e1a09f783833",
   "metadata": {},
   "outputs": [
    {
     "name": "stdout",
     "output_type": "stream",
     "text": [
      "Hello World\n"
     ]
    }
   ],
   "source": [
    "print (\"Hello World\")"
   ]
  },
  {
   "cell_type": "code",
   "execution_count": 5,
   "id": "306c1b58-3b5d-45e3-9364-275df4708a33",
   "metadata": {},
   "outputs": [
    {
     "ename": "SyntaxError",
     "evalue": "invalid syntax (3444065910.py, line 2)",
     "output_type": "error",
     "traceback": [
      "\u001b[1;36m  Cell \u001b[1;32mIn[5], line 2\u001b[1;36m\u001b[0m\n\u001b[1;33m    nome \"Bruna Monteiro\"\u001b[0m\n\u001b[1;37m         ^\u001b[0m\n\u001b[1;31mSyntaxError\u001b[0m\u001b[1;31m:\u001b[0m invalid syntax\n"
     ]
    }
   ],
   "source": [
    "#variáveis\n",
    "nome \"Bruna Monteiro\" "
   ]
  },
  {
   "cell_type": "code",
   "execution_count": 6,
   "id": "a6906c2c-619e-451e-a817-c9b416332a58",
   "metadata": {},
   "outputs": [
    {
     "ename": "NameError",
     "evalue": "name 'nome' is not defined",
     "output_type": "error",
     "traceback": [
      "\u001b[1;31m---------------------------------------------------------------------------\u001b[0m",
      "\u001b[1;31mNameError\u001b[0m                                 Traceback (most recent call last)",
      "Cell \u001b[1;32mIn[6], line 1\u001b[0m\n\u001b[1;32m----> 1\u001b[0m nome\n",
      "\u001b[1;31mNameError\u001b[0m: name 'nome' is not defined"
     ]
    }
   ],
   "source": [
    "nome"
   ]
  },
  {
   "cell_type": "code",
   "execution_count": 7,
   "id": "1d38e393-7e14-40da-853b-a6bf5becbbb6",
   "metadata": {},
   "outputs": [
    {
     "name": "stdout",
     "output_type": "stream",
     "text": [
      "nome\n"
     ]
    }
   ],
   "source": [
    "print (\"nome\")"
   ]
  },
  {
   "cell_type": "code",
   "execution_count": 8,
   "id": "5935422c-5b50-4b59-96a0-f8fe6bd7c378",
   "metadata": {},
   "outputs": [
    {
     "ename": "NameError",
     "evalue": "name 'nome' is not defined",
     "output_type": "error",
     "traceback": [
      "\u001b[1;31m---------------------------------------------------------------------------\u001b[0m",
      "\u001b[1;31mNameError\u001b[0m                                 Traceback (most recent call last)",
      "Cell \u001b[1;32mIn[8], line 1\u001b[0m\n\u001b[1;32m----> 1\u001b[0m nome (\u001b[38;5;124m\"\u001b[39m\u001b[38;5;124mBruna Monteiro\u001b[39m\u001b[38;5;124m\"\u001b[39m)\n",
      "\u001b[1;31mNameError\u001b[0m: name 'nome' is not defined"
     ]
    }
   ],
   "source": [
    "nome (\"Bruna Monteiro\")"
   ]
  },
  {
   "cell_type": "code",
   "execution_count": 9,
   "id": "22195296-7b32-41f5-b983-d33816d25ef7",
   "metadata": {},
   "outputs": [
    {
     "ename": "SyntaxError",
     "evalue": "invalid syntax (3165849610.py, line 1)",
     "output_type": "error",
     "traceback": [
      "\u001b[1;36m  Cell \u001b[1;32mIn[9], line 1\u001b[1;36m\u001b[0m\n\u001b[1;33m    nome=Bruna Monteiro\u001b[0m\n\u001b[1;37m               ^\u001b[0m\n\u001b[1;31mSyntaxError\u001b[0m\u001b[1;31m:\u001b[0m invalid syntax\n"
     ]
    }
   ],
   "source": [
    "nome=Bruna Monteiro"
   ]
  },
  {
   "cell_type": "code",
   "execution_count": 10,
   "id": "edc4e192-39e6-478f-a3e3-1baf1fa41a41",
   "metadata": {},
   "outputs": [],
   "source": [
    "nome= \"Bruna Monteiro\""
   ]
  },
  {
   "cell_type": "code",
   "execution_count": 11,
   "id": "c5516e10-9d41-4a27-acb7-cffffb4ce64d",
   "metadata": {},
   "outputs": [
    {
     "name": "stdout",
     "output_type": "stream",
     "text": [
      "nome\n"
     ]
    }
   ],
   "source": [
    "print (\"nome\")"
   ]
  },
  {
   "cell_type": "code",
   "execution_count": 13,
   "id": "17043945-aaed-4fff-9c41-12a6dbe0b996",
   "metadata": {},
   "outputs": [],
   "source": [
    "#variaveis\n",
    "Nome= \"Bruna Monteiro\"\n",
    "Idade= \"30\""
   ]
  },
  {
   "cell_type": "code",
   "execution_count": 14,
   "id": "524d562f-c611-46be-ae6d-38b883db2b07",
   "metadata": {},
   "outputs": [
    {
     "name": "stdout",
     "output_type": "stream",
     "text": [
      "Bruna Monteiro\n"
     ]
    }
   ],
   "source": [
    "print (nome)"
   ]
  },
  {
   "cell_type": "code",
   "execution_count": 16,
   "id": "e59063b2-6f8b-4860-8f8e-cadf4a00893b",
   "metadata": {},
   "outputs": [],
   "source": [
    "Nome= \"Marcos Antonio Al Farah Marques\"\n",
    "Idade= \"22\""
   ]
  },
  {
   "cell_type": "code",
   "execution_count": 17,
   "id": "ff2b8fbb-1f79-4fe5-b686-fb391b495631",
   "metadata": {},
   "outputs": [
    {
     "name": "stdout",
     "output_type": "stream",
     "text": [
      "Bruna Monteiro\n"
     ]
    }
   ],
   "source": [
    "print (nome)"
   ]
  },
  {
   "cell_type": "code",
   "execution_count": 18,
   "id": "216282cf-f880-4b67-8aba-dc15fc72c347",
   "metadata": {},
   "outputs": [
    {
     "name": "stdout",
     "output_type": "stream",
     "text": [
      "Marcos Antonio Al Farah Marques\n"
     ]
    }
   ],
   "source": [
    "print (Nome)"
   ]
  },
  {
   "cell_type": "code",
   "execution_count": 19,
   "id": "5d1258be-09a7-4111-9413-3ddc4285c59a",
   "metadata": {},
   "outputs": [
    {
     "ename": "NameError",
     "evalue": "name 'Print' is not defined",
     "output_type": "error",
     "traceback": [
      "\u001b[1;31m---------------------------------------------------------------------------\u001b[0m",
      "\u001b[1;31mNameError\u001b[0m                                 Traceback (most recent call last)",
      "Cell \u001b[1;32mIn[19], line 1\u001b[0m\n\u001b[1;32m----> 1\u001b[0m Print (Idade)\n",
      "\u001b[1;31mNameError\u001b[0m: name 'Print' is not defined"
     ]
    }
   ],
   "source": [
    "Print (Idade)"
   ]
  },
  {
   "cell_type": "code",
   "execution_count": 20,
   "id": "da4f1465-d907-4fa0-ad52-50c312c0de85",
   "metadata": {},
   "outputs": [
    {
     "name": "stdout",
     "output_type": "stream",
     "text": [
      "22\n"
     ]
    }
   ],
   "source": [
    "print (Idade)"
   ]
  },
  {
   "cell_type": "code",
   "execution_count": 21,
   "id": "6b8ccad6-9987-4163-a267-3c6ab37efca2",
   "metadata": {},
   "outputs": [
    {
     "data": {
      "text/plain": [
       "False"
      ]
     },
     "execution_count": 21,
     "metadata": {},
     "output_type": "execute_result"
    }
   ],
   "source": [
    "True & False \n"
   ]
  },
  {
   "cell_type": "code",
   "execution_count": 22,
   "id": "d4e58193-aac2-4363-9af5-5e58519bab24",
   "metadata": {},
   "outputs": [
    {
     "ename": "NameError",
     "evalue": "name 'x' is not defined",
     "output_type": "error",
     "traceback": [
      "\u001b[1;31m---------------------------------------------------------------------------\u001b[0m",
      "\u001b[1;31mNameError\u001b[0m                                 Traceback (most recent call last)",
      "Cell \u001b[1;32mIn[22], line 1\u001b[0m\n\u001b[1;32m----> 1\u001b[0m x\u001b[38;5;241m>\u001b[39my \u001b[38;5;241m&\u001b[39m y\u001b[38;5;241m>\u001b[39mx\n",
      "\u001b[1;31mNameError\u001b[0m: name 'x' is not defined"
     ]
    }
   ],
   "source": [
    "x>y & y>x "
   ]
  },
  {
   "cell_type": "code",
   "execution_count": 23,
   "id": "45becae3-0a60-4703-877e-4fa271e42c7f",
   "metadata": {},
   "outputs": [],
   "source": [
    "x=10\n",
    "y=5\n",
    "\n"
   ]
  },
  {
   "cell_type": "code",
   "execution_count": 24,
   "id": "889cf3a7-3044-4365-818c-faf4df1db37c",
   "metadata": {},
   "outputs": [
    {
     "data": {
      "text/plain": [
       "False"
      ]
     },
     "execution_count": 24,
     "metadata": {},
     "output_type": "execute_result"
    }
   ],
   "source": [
    "True & False"
   ]
  },
  {
   "cell_type": "code",
   "execution_count": 25,
   "id": "ab3dc65d-5c67-4b3a-8aad-a40426faa809",
   "metadata": {},
   "outputs": [
    {
     "data": {
      "text/plain": [
       "False"
      ]
     },
     "execution_count": 25,
     "metadata": {},
     "output_type": "execute_result"
    }
   ],
   "source": [
    "x>y & y>x"
   ]
  },
  {
   "cell_type": "code",
   "execution_count": null,
   "id": "34175a06-0306-4583-9ea6-77cbd4900cbc",
   "metadata": {},
   "outputs": [],
   "source": []
  }
 ],
 "metadata": {
  "kernelspec": {
   "display_name": "Python 3 (ipykernel)",
   "language": "python",
   "name": "python3"
  },
  "language_info": {
   "codemirror_mode": {
    "name": "ipython",
    "version": 3
   },
   "file_extension": ".py",
   "mimetype": "text/x-python",
   "name": "python",
   "nbconvert_exporter": "python",
   "pygments_lexer": "ipython3",
   "version": "3.11.7"
  }
 },
 "nbformat": 4,
 "nbformat_minor": 5
}
