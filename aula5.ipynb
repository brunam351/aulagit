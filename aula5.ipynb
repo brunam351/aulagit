{
 "cells": [
  {
   "cell_type": "code",
   "execution_count": null,
   "id": "1e86d3f7-4b75-48da-b50a-65757b45ac83",
   "metadata": {},
   "outputs": [],
   "source": [
    "(print)'Hello World'"
   ]
  },
  {
   "cell_type": "code",
   "execution_count": null,
   "id": "a1fec499-a640-4a25-8b15-a4ebdc0a1f9d",
   "metadata": {},
   "outputs": [],
   "source": []
  }
 ],
 "metadata": {
  "kernelspec": {
   "display_name": "Python 3 (ipykernel)",
   "language": "python",
   "name": "python3"
  },
  "language_info": {
   "codemirror_mode": {
    "name": "ipython",
    "version": 3
   },
   "file_extension": ".py",
   "mimetype": "text/x-python",
   "name": "python",
   "nbconvert_exporter": "python",
   "pygments_lexer": "ipython3",
   "version": "3.11.7"
  }
 },
 "nbformat": 4,
 "nbformat_minor": 5
}
